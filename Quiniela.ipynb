{
 "cells": [
  {
   "attachments": {},
   "cell_type": "markdown",
   "metadata": {},
   "source": [
    "## **Import libraries**"
   ]
  },
  {
   "cell_type": "code",
   "execution_count": 1,
   "metadata": {},
   "outputs": [],
   "source": [
    "import pandas as pd\n",
    "import numpy as np\n",
    "import matplotlib.pyplot as plt\n",
    "import seaborn as sns\n",
    "sns.set()"
   ]
  },
  {
   "attachments": {},
   "cell_type": "markdown",
   "metadata": {},
   "source": [
    "## **Import data**"
   ]
  },
  {
   "cell_type": "code",
   "execution_count": 2,
   "metadata": {},
   "outputs": [
    {
     "data": {
      "text/html": [
       "<div>\n",
       "<style scoped>\n",
       "    .dataframe tbody tr th:only-of-type {\n",
       "        vertical-align: middle;\n",
       "    }\n",
       "\n",
       "    .dataframe tbody tr th {\n",
       "        vertical-align: top;\n",
       "    }\n",
       "\n",
       "    .dataframe thead th {\n",
       "        text-align: right;\n",
       "    }\n",
       "</style>\n",
       "<table border=\"1\" class=\"dataframe\">\n",
       "  <thead>\n",
       "    <tr style=\"text-align: right;\">\n",
       "      <th></th>\n",
       "      <th>lottery_date</th>\n",
       "      <th>quiniela</th>\n",
       "      <th>period</th>\n",
       "      <th>position</th>\n",
       "      <th>result</th>\n",
       "    </tr>\n",
       "  </thead>\n",
       "  <tbody>\n",
       "    <tr>\n",
       "      <th>0</th>\n",
       "      <td>2014-11-01</td>\n",
       "      <td>nacional</td>\n",
       "      <td>primera</td>\n",
       "      <td>1</td>\n",
       "      <td>3940</td>\n",
       "    </tr>\n",
       "    <tr>\n",
       "      <th>1</th>\n",
       "      <td>2014-11-01</td>\n",
       "      <td>nacional</td>\n",
       "      <td>primera</td>\n",
       "      <td>2</td>\n",
       "      <td>6857</td>\n",
       "    </tr>\n",
       "    <tr>\n",
       "      <th>2</th>\n",
       "      <td>2014-11-01</td>\n",
       "      <td>nacional</td>\n",
       "      <td>primera</td>\n",
       "      <td>3</td>\n",
       "      <td>609</td>\n",
       "    </tr>\n",
       "    <tr>\n",
       "      <th>3</th>\n",
       "      <td>2014-11-01</td>\n",
       "      <td>nacional</td>\n",
       "      <td>primera</td>\n",
       "      <td>4</td>\n",
       "      <td>8018</td>\n",
       "    </tr>\n",
       "    <tr>\n",
       "      <th>4</th>\n",
       "      <td>2014-11-01</td>\n",
       "      <td>nacional</td>\n",
       "      <td>primera</td>\n",
       "      <td>5</td>\n",
       "      <td>3232</td>\n",
       "    </tr>\n",
       "  </tbody>\n",
       "</table>\n",
       "</div>"
      ],
      "text/plain": [
       "  lottery_date  quiniela   period  position  result\n",
       "0   2014-11-01  nacional  primera         1    3940\n",
       "1   2014-11-01  nacional  primera         2    6857\n",
       "2   2014-11-01  nacional  primera         3     609\n",
       "3   2014-11-01  nacional  primera         4    8018\n",
       "4   2014-11-01  nacional  primera         5    3232"
      ]
     },
     "execution_count": 2,
     "metadata": {},
     "output_type": "execute_result"
    }
   ],
   "source": [
    "raw_df = pd.read_csv('./data_source/quiniela_nacional.csv')\n",
    "\n",
    "df_nacional = raw_df.copy()\n",
    "df_nacional.head()"
   ]
  },
  {
   "attachments": {},
   "cell_type": "markdown",
   "metadata": {},
   "source": [
    "## **Explore and clean data**"
   ]
  },
  {
   "cell_type": "code",
   "execution_count": 3,
   "metadata": {},
   "outputs": [
    {
     "name": "stdout",
     "output_type": "stream",
     "text": [
      "<class 'pandas.core.frame.DataFrame'>\n",
      "RangeIndex: 191060 entries, 0 to 191059\n",
      "Data columns (total 5 columns):\n",
      " #   Column        Non-Null Count   Dtype \n",
      "---  ------        --------------   ----- \n",
      " 0   lottery_date  191060 non-null  object\n",
      " 1   quiniela      191060 non-null  object\n",
      " 2   period        191060 non-null  object\n",
      " 3   position      191060 non-null  int64 \n",
      " 4   result        191060 non-null  int64 \n",
      "dtypes: int64(2), object(3)\n",
      "memory usage: 7.3+ MB\n"
     ]
    }
   ],
   "source": [
    "# Check data types, null and total values.\n",
    "df_nacional.info()"
   ]
  },
  {
   "attachments": {},
   "cell_type": "markdown",
   "metadata": {},
   "source": [
    "### Fix data types\n",
    "*Note: 'position' is categorical ordinal data, but to the effects of creating position groups -see betting options-, it will be treated as numerical data.*"
   ]
  },
  {
   "cell_type": "code",
   "execution_count": 4,
   "metadata": {},
   "outputs": [
    {
     "name": "stdout",
     "output_type": "stream",
     "text": [
      "<class 'pandas.core.frame.DataFrame'>\n",
      "RangeIndex: 191060 entries, 0 to 191059\n",
      "Data columns (total 5 columns):\n",
      " #   Column        Non-Null Count   Dtype         \n",
      "---  ------        --------------   -----         \n",
      " 0   lottery_date  191060 non-null  datetime64[ns]\n",
      " 1   quiniela      191060 non-null  object        \n",
      " 2   period        191060 non-null  object        \n",
      " 3   position      191060 non-null  int64         \n",
      " 4   result        191060 non-null  object        \n",
      "dtypes: datetime64[ns](1), int64(1), object(3)\n",
      "memory usage: 7.3+ MB\n"
     ]
    }
   ],
   "source": [
    "# Modify 'lottery_date' to type DATE.\n",
    "df_nacional['lottery_date'] = pd.to_datetime(df_nacional['lottery_date'])\n",
    "# Parse 'result' as TEXT with 4 characters an leading zeros. This feature is categorical nominal data.\n",
    "df_nacional['result'] = df_nacional['result'].astype(str).str.zfill(4)\n",
    "\n",
    "df_nacional.info()"
   ]
  },
  {
   "cell_type": "code",
   "execution_count": 5,
   "metadata": {},
   "outputs": [
    {
     "data": {
      "text/html": [
       "<div>\n",
       "<style scoped>\n",
       "    .dataframe tbody tr th:only-of-type {\n",
       "        vertical-align: middle;\n",
       "    }\n",
       "\n",
       "    .dataframe tbody tr th {\n",
       "        vertical-align: top;\n",
       "    }\n",
       "\n",
       "    .dataframe thead th {\n",
       "        text-align: right;\n",
       "    }\n",
       "</style>\n",
       "<table border=\"1\" class=\"dataframe\">\n",
       "  <thead>\n",
       "    <tr style=\"text-align: right;\">\n",
       "      <th></th>\n",
       "      <th>lottery_date</th>\n",
       "      <th>quiniela</th>\n",
       "      <th>period</th>\n",
       "      <th>position</th>\n",
       "      <th>result</th>\n",
       "    </tr>\n",
       "  </thead>\n",
       "  <tbody>\n",
       "    <tr>\n",
       "      <th>0</th>\n",
       "      <td>2014-11-01</td>\n",
       "      <td>nacional</td>\n",
       "      <td>primera</td>\n",
       "      <td>1</td>\n",
       "      <td>3940</td>\n",
       "    </tr>\n",
       "    <tr>\n",
       "      <th>1</th>\n",
       "      <td>2014-11-01</td>\n",
       "      <td>nacional</td>\n",
       "      <td>primera</td>\n",
       "      <td>2</td>\n",
       "      <td>6857</td>\n",
       "    </tr>\n",
       "    <tr>\n",
       "      <th>2</th>\n",
       "      <td>2014-11-01</td>\n",
       "      <td>nacional</td>\n",
       "      <td>primera</td>\n",
       "      <td>3</td>\n",
       "      <td>0609</td>\n",
       "    </tr>\n",
       "    <tr>\n",
       "      <th>3</th>\n",
       "      <td>2014-11-01</td>\n",
       "      <td>nacional</td>\n",
       "      <td>primera</td>\n",
       "      <td>4</td>\n",
       "      <td>8018</td>\n",
       "    </tr>\n",
       "    <tr>\n",
       "      <th>4</th>\n",
       "      <td>2014-11-01</td>\n",
       "      <td>nacional</td>\n",
       "      <td>primera</td>\n",
       "      <td>5</td>\n",
       "      <td>3232</td>\n",
       "    </tr>\n",
       "  </tbody>\n",
       "</table>\n",
       "</div>"
      ],
      "text/plain": [
       "  lottery_date  quiniela   period  position result\n",
       "0   2014-11-01  nacional  primera         1   3940\n",
       "1   2014-11-01  nacional  primera         2   6857\n",
       "2   2014-11-01  nacional  primera         3   0609\n",
       "3   2014-11-01  nacional  primera         4   8018\n",
       "4   2014-11-01  nacional  primera         5   3232"
      ]
     },
     "execution_count": 5,
     "metadata": {},
     "output_type": "execute_result"
    }
   ],
   "source": [
    "# Check leading zeros for 'result'\n",
    "df_nacional.head()"
   ]
  },
  {
   "attachments": {},
   "cell_type": "markdown",
   "metadata": {},
   "source": [
    "### Split results by betting options\n",
    "(1 digit, 2 digits, 3 digits, 4 digits)"
   ]
  },
  {
   "cell_type": "code",
   "execution_count": 6,
   "metadata": {},
   "outputs": [
    {
     "data": {
      "text/html": [
       "<div>\n",
       "<style scoped>\n",
       "    .dataframe tbody tr th:only-of-type {\n",
       "        vertical-align: middle;\n",
       "    }\n",
       "\n",
       "    .dataframe tbody tr th {\n",
       "        vertical-align: top;\n",
       "    }\n",
       "\n",
       "    .dataframe thead th {\n",
       "        text-align: right;\n",
       "    }\n",
       "</style>\n",
       "<table border=\"1\" class=\"dataframe\">\n",
       "  <thead>\n",
       "    <tr style=\"text-align: right;\">\n",
       "      <th></th>\n",
       "      <th>lottery_date</th>\n",
       "      <th>quiniela</th>\n",
       "      <th>period</th>\n",
       "      <th>position</th>\n",
       "      <th>digits_4</th>\n",
       "      <th>digits_3</th>\n",
       "      <th>digits_2</th>\n",
       "      <th>digits_1</th>\n",
       "    </tr>\n",
       "  </thead>\n",
       "  <tbody>\n",
       "    <tr>\n",
       "      <th>0</th>\n",
       "      <td>2014-11-01</td>\n",
       "      <td>nacional</td>\n",
       "      <td>primera</td>\n",
       "      <td>1</td>\n",
       "      <td>3940</td>\n",
       "      <td>940</td>\n",
       "      <td>40</td>\n",
       "      <td>0</td>\n",
       "    </tr>\n",
       "    <tr>\n",
       "      <th>1</th>\n",
       "      <td>2014-11-01</td>\n",
       "      <td>nacional</td>\n",
       "      <td>primera</td>\n",
       "      <td>2</td>\n",
       "      <td>6857</td>\n",
       "      <td>857</td>\n",
       "      <td>57</td>\n",
       "      <td>7</td>\n",
       "    </tr>\n",
       "    <tr>\n",
       "      <th>2</th>\n",
       "      <td>2014-11-01</td>\n",
       "      <td>nacional</td>\n",
       "      <td>primera</td>\n",
       "      <td>3</td>\n",
       "      <td>0609</td>\n",
       "      <td>609</td>\n",
       "      <td>09</td>\n",
       "      <td>9</td>\n",
       "    </tr>\n",
       "    <tr>\n",
       "      <th>3</th>\n",
       "      <td>2014-11-01</td>\n",
       "      <td>nacional</td>\n",
       "      <td>primera</td>\n",
       "      <td>4</td>\n",
       "      <td>8018</td>\n",
       "      <td>018</td>\n",
       "      <td>18</td>\n",
       "      <td>8</td>\n",
       "    </tr>\n",
       "    <tr>\n",
       "      <th>4</th>\n",
       "      <td>2014-11-01</td>\n",
       "      <td>nacional</td>\n",
       "      <td>primera</td>\n",
       "      <td>5</td>\n",
       "      <td>3232</td>\n",
       "      <td>232</td>\n",
       "      <td>32</td>\n",
       "      <td>2</td>\n",
       "    </tr>\n",
       "  </tbody>\n",
       "</table>\n",
       "</div>"
      ],
      "text/plain": [
       "  lottery_date  quiniela   period  position digits_4 digits_3 digits_2  \\\n",
       "0   2014-11-01  nacional  primera         1     3940      940       40   \n",
       "1   2014-11-01  nacional  primera         2     6857      857       57   \n",
       "2   2014-11-01  nacional  primera         3     0609      609       09   \n",
       "3   2014-11-01  nacional  primera         4     8018      018       18   \n",
       "4   2014-11-01  nacional  primera         5     3232      232       32   \n",
       "\n",
       "  digits_1  \n",
       "0        0  \n",
       "1        7  \n",
       "2        9  \n",
       "3        8  \n",
       "4        2  "
      ]
     },
     "execution_count": 6,
     "metadata": {},
     "output_type": "execute_result"
    }
   ],
   "source": [
    "# 4 digits\n",
    "df_nacional.rename(columns= {'result': 'digits_4'}, inplace=True)\n",
    "# 3 digits\n",
    "df_nacional['digits_3'] = df_nacional['digits_4'].str[-3:]\n",
    "# 2 digits\n",
    "df_nacional['digits_2'] = df_nacional['digits_4'].str[-2:]\n",
    "# 1 digit\n",
    "df_nacional['digits_1'] = df_nacional['digits_4'].str[-1:]\n",
    "\n",
    "df_nacional.head()"
   ]
  },
  {
   "attachments": {},
   "cell_type": "markdown",
   "metadata": {},
   "source": [
    "### Look at distributions"
   ]
  },
  {
   "cell_type": "code",
   "execution_count": 7,
   "metadata": {},
   "outputs": [
    {
     "data": {
      "text/plain": [
       "(array([20060., 19990., 19831., 19892., 19482., 19181., 19121., 18636.,\n",
       "        18241., 16626.]),\n",
       " array([   0. ,  999.9, 1999.8, 2999.7, 3999.6, 4999.5, 5999.4, 6999.3,\n",
       "        7999.2, 8999.1, 9999. ]),\n",
       " <BarContainer object of 10 artists>)"
      ]
     },
     "execution_count": 7,
     "metadata": {},
     "output_type": "execute_result"
    }
   ],
   "source": [
    "# Check the distrubtion of results\n",
    "fig, (d1, d2, d3, d4) = plt.subplots(4, figsize=(15,10))\n",
    "fig.suptitle('Results distribution by number of digits')\n",
    "\n",
    "d1.set_title('1 Digit')\n",
    "d1.hist(df_nacional['digits_1'])\n",
    "d2.set_title('2 Digits')\n",
    "d2.hist(df_nacional['digits_2'])\n",
    "d3.set_title('3 Digits')\n",
    "d3.hist(df_nacional['digits_3'])\n",
    "d4.set_title('4 Digits')\n",
    "d4.hist(df_nacional['digits_4'])"
   ]
  },
  {
   "cell_type": "code",
   "execution_count": null,
   "metadata": {},
   "outputs": [],
   "source": []
  },
  {
   "cell_type": "markdown",
   "metadata": {},
   "source": [
    "play:\n",
    "a 1\n",
    "a los 5\n",
    "a los 10\n",
    "a los 15\n",
    "a los 20"
   ]
  }
 ],
 "metadata": {
  "kernelspec": {
   "display_name": "Python 3",
   "language": "python",
   "name": "python3"
  },
  "language_info": {
   "codemirror_mode": {
    "name": "ipython",
    "version": 3
   },
   "file_extension": ".py",
   "mimetype": "text/x-python",
   "name": "python",
   "nbconvert_exporter": "python",
   "pygments_lexer": "ipython3",
   "version": "3.10.2"
  },
  "orig_nbformat": 4,
  "vscode": {
   "interpreter": {
    "hash": "8dfb18b20b1c5be31ebdb32c9f5f048ff20716d499c9b4ee56ead56f42de095d"
   }
  }
 },
 "nbformat": 4,
 "nbformat_minor": 2
}
